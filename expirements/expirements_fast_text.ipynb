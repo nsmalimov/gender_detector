{
 "cells": [
  {
   "cell_type": "markdown",
   "metadata": {},
   "source": [
    "https://pypi.python.org/pypi/fasttext\n",
    "\n",
    "https://github.com/facebookresearch/fastText"
   ]
  },
  {
   "cell_type": "code",
   "execution_count": 5,
   "metadata": {
    "collapsed": false
   },
   "outputs": [],
   "source": [
    "import fasttext\n",
    "from nltk.stem.snowball import SnowballStemmer\n",
    "from pathes import path_to_data"
   ]
  },
  {
   "cell_type": "code",
   "execution_count": 1,
   "metadata": {
    "collapsed": true
   },
   "outputs": [],
   "source": [
    "from sklearn.metrics import f1_score\n",
    "from sklearn.metrics import precision_score\n",
    "from sklearn.metrics import recall_score\n",
    "\n",
    "def get_accuracy(pred, y_test):\n",
    "    count_corr = 0\n",
    "    for i in zip(y_test, pred):\n",
    "        if i[0] == i[1]:\n",
    "            count_corr += 1\n",
    "        \n",
    "    return count_corr, (count_corr/len(y_test))\n",
    "\n",
    "def get_metrics(predicted, correct):\n",
    "    count_corr, accuracy = get_accuracy(predicted, correct)\n",
    "    print (\"all: \" + str(len(predicted)) + \" \" + \"correct: \" + str(count_corr))\n",
    "    print (\"accuracy \" + str(accuracy))\n",
    "    print (\"precision \" + str(precision_score(correct, predicted)))\n",
    "    print (\"recall \" + str(recall_score(correct, predicted)))\n",
    "    print (\"f1 \" + str(f1_score(correct, predicted)))"
   ]
  },
  {
   "cell_type": "code",
   "execution_count": 2,
   "metadata": {
    "collapsed": true
   },
   "outputs": [],
   "source": [
    "def read_labels():\n",
    "    labels = []\n",
    "    with open(path_to_data + \"labels\") as f:\n",
    "        for i in f.readlines():\n",
    "            s = i.replace(\"\\n\", \"\")\n",
    "            labels.append(s)\n",
    "\n",
    "    return labels\n",
    "\n",
    "\n",
    "def read_texts():\n",
    "    texts = []\n",
    "\n",
    "    with open(path_to_data + \"texts\") as f:\n",
    "        for i in f.readlines():\n",
    "            s = i.replace(\"\\n\", \"\")\n",
    "            texts.append(s)\n",
    "\n",
    "    return texts"
   ]
  },
  {
   "cell_type": "code",
   "execution_count": 3,
   "metadata": {
    "collapsed": true
   },
   "outputs": [],
   "source": [
    "def string_preprocessing(texts):\n",
    "    # + english stemming?\n",
    "    stemmer = SnowballStemmer(\"russian\")\n",
    "\n",
    "    validLetters = \"abcdefghijklmnopqrstuvwxyzабвгдеёжзийклмнопрстуфхцчшщъыьэюя\"\n",
    "\n",
    "    for i in range(len(texts)):\n",
    "        texts[i] = texts[i].lower()\n",
    "\n",
    "        s = \"\"\n",
    "        for char in texts[i]:\n",
    "            if char in validLetters or char == ' ':\n",
    "                s += char\n",
    "\n",
    "        texts[i] = s.replace(\"  \", \" \")\n",
    "\n",
    "        l = [stemmer.stem(word) for word in texts[i].split(\" \")]\n",
    "\n",
    "        texts[i] = \" \".join(l)\n",
    "\n",
    "        if i % 10000 == 0:\n",
    "            print (i)\n",
    "\n",
    "    return texts"
   ]
  },
  {
   "cell_type": "code",
   "execution_count": 6,
   "metadata": {
    "collapsed": false
   },
   "outputs": [],
   "source": [
    "def update_text_for_fasttext():\n",
    "    texts = read_texts()\n",
    "    labels = read_labels()\n",
    "\n",
    "    num_sep = len(texts) / 100 * 80\n",
    "    num_sep = int(num_sep)\n",
    "\n",
    "    num = 0\n",
    "    with open(path_to_data + \"texts_updated_train\", \"w\") as f:\n",
    "        for i in texts:\n",
    "            f.write(\"__label__\" + labels[num] + \" \" + i.lower() + \"\\n\")\n",
    "            num += 1\n",
    "\n",
    "            if num_sep == num:\n",
    "                break\n",
    "\n",
    "    num = 0\n",
    "    with open(path_to_data + \"texts_updated_test\", \"w\") as f:\n",
    "        for i in texts:\n",
    "            if num > num_sep:\n",
    "                f.write(\"__label__\" + labels[num] + \" \" + i.lower() + \"\\n\")\n",
    "\n",
    "            num += 1\n",
    "\n",
    "update_text_for_fasttext()"
   ]
  },
  {
   "cell_type": "code",
   "execution_count": 7,
   "metadata": {
    "collapsed": false
   },
   "outputs": [],
   "source": [
    "def read_texts_labels_test():\n",
    "    labels_test = []\n",
    "    texts_test = []\n",
    "    num = 0\n",
    "    with open(path_to_data + \"texts_updated_test\", \"r\") as f:\n",
    "        for i in f.readlines():\n",
    "            s = i.replace(\"\\n\", \"\").replace(\"__label__\", \"\")\n",
    "            s_split = s.split(\" \")\n",
    "            labels_test.append(str(s_split[0]))\n",
    "            texts_test.append(\" \".join(s_split[1:]) + \" \" + str(num))\n",
    "            \n",
    "    return texts_test, labels_test\n",
    "\n",
    "texts_test, labels_test = read_texts_labels_test()"
   ]
  },
  {
   "cell_type": "code",
   "execution_count": 8,
   "metadata": {
    "collapsed": false
   },
   "outputs": [],
   "source": [
    "classifier = fasttext.supervised(path_to_data + \"texts_updated_train\", 'model', label_prefix='__label__',\n",
    "                                 epoch=30)"
   ]
  },
  {
   "cell_type": "code",
   "execution_count": 9,
   "metadata": {
    "collapsed": false
   },
   "outputs": [
    {
     "name": "stdout",
     "output_type": "stream",
     "text": [
      "CPU times: user 122 ms, sys: 52.2 ms, total: 174 ms\n",
      "Wall time: 178 ms\n"
     ]
    }
   ],
   "source": [
    "%time model = fasttext.load_model('model.bin', encoding='utf-8')"
   ]
  },
  {
   "cell_type": "code",
   "execution_count": 10,
   "metadata": {
    "collapsed": false
   },
   "outputs": [
    {
     "name": "stdout",
     "output_type": "stream",
     "text": [
      "P@1: 0.5505917652942157\n",
      "R@1: 0.5505917652942157\n",
      "Number of examples: 5999\n"
     ]
    }
   ],
   "source": [
    "result = model.test(path_to_data + \"texts_updated_test\")\n",
    "print ('P@1:', result.precision)\n",
    "print ('R@1:', result.recall)\n",
    "print ('Number of examples:', result.nexamples)"
   ]
  },
  {
   "cell_type": "code",
   "execution_count": 11,
   "metadata": {
    "collapsed": false
   },
   "outputs": [],
   "source": [
    "labels_pred = model.predict(texts_test)\n",
    "labels_pred = [i[0].replace(\"__label__\", \"\") for i in labels_pred]"
   ]
  },
  {
   "cell_type": "code",
   "execution_count": 12,
   "metadata": {
    "collapsed": true
   },
   "outputs": [],
   "source": [
    "labels_pred = [int(i) for i in labels_pred]\n",
    "labels_test = [int(i) for i in labels_test]"
   ]
  },
  {
   "cell_type": "code",
   "execution_count": 13,
   "metadata": {
    "collapsed": false
   },
   "outputs": [
    {
     "name": "stdout",
     "output_type": "stream",
     "text": [
      "all: 5999 correct: 3235\n",
      "accuracy 0.5392565427571262\n",
      "precision 0.588588588589\n",
      "recall 0.0694296847326\n",
      "f1 0.124207858048\n"
     ]
    }
   ],
   "source": [
    "get_metrics(labels_pred, labels_test)"
   ]
  },
  {
   "cell_type": "code",
   "execution_count": 92,
   "metadata": {
    "collapsed": true
   },
   "outputs": [],
   "source": [
    "texts = ['привет']\n",
    "labels_probas = classifier.predict_proba(texts)"
   ]
  },
  {
   "cell_type": "code",
   "execution_count": 95,
   "metadata": {
    "collapsed": false
   },
   "outputs": [
    {
     "name": "stdout",
     "output_type": "stream",
     "text": [
      "('1', 0.880859)\n"
     ]
    }
   ],
   "source": [
    "print (labels_probas[0][0])"
   ]
  },
  {
   "cell_type": "code",
   "execution_count": null,
   "metadata": {
    "collapsed": true
   },
   "outputs": [],
   "source": []
  }
 ],
 "metadata": {
  "kernelspec": {
   "display_name": "Python 3",
   "language": "python",
   "name": "python3"
  },
  "language_info": {
   "codemirror_mode": {
    "name": "ipython",
    "version": 3
   },
   "file_extension": ".py",
   "mimetype": "text/x-python",
   "name": "python",
   "nbconvert_exporter": "python",
   "pygments_lexer": "ipython3",
   "version": "3.5.2"
  }
 },
 "nbformat": 4,
 "nbformat_minor": 0
}
