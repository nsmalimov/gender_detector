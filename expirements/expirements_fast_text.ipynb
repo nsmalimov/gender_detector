{
 "cells": [
  {
   "cell_type": "code",
   "execution_count": 3,
   "metadata": {
    "collapsed": false
   },
   "outputs": [],
   "source": [
    "import fasttext\n",
    "from nltk.stem.snowball import SnowballStemmer\n",
    "from pathes import path_to_data"
   ]
  },
  {
   "cell_type": "code",
   "execution_count": 12,
   "metadata": {
    "collapsed": true
   },
   "outputs": [],
   "source": [
    "from sklearn.metrics import f1_score\n",
    "from sklearn.metrics import precision_score\n",
    "from sklearn.metrics import recall_score\n",
    "\n",
    "def get_accuracy(pred, y_test):\n",
    "    count_corr = 0\n",
    "    for i in zip(y_test, pred):\n",
    "        if i[0] == i[1]:\n",
    "            count_corr += 1\n",
    "        \n",
    "    return count_corr, (count_corr/len(y_test))\n",
    "\n",
    "def get_metrics(predicted, correct):\n",
    "    count_corr, accuracy = get_accuracy(predicted, y_test)\n",
    "    print (\"all: \" + str(len(predicted)) + \" \" + \"correct: \" + str(count_corr))\n",
    "    print (\"accuracy\" + str(accuracy))\n",
    "    print (\"precision \" + str(precision_score(correct, predicted)))\n",
    "    print (\"recall \" + str(recall_score(correct, predicted)))\n",
    "    print (\"f1 \" + str(f1_score(correct, predicted)))"
   ]
  },
  {
   "cell_type": "code",
   "execution_count": 8,
   "metadata": {
    "collapsed": true
   },
   "outputs": [],
   "source": [
    "def update_text_for_fasttext():\n",
    "    texts = read_texts()\n",
    "    labels = read_labels()\n",
    "\n",
    "    num_sep = len(texts) / 100 * 80\n",
    "    num_sep = int(num_sep)\n",
    "\n",
    "\n",
    "    num = 0\n",
    "    with open(path_to_data + \"texts_updated_train\", \"w\") as f:\n",
    "        for i in texts:\n",
    "            f.write(\"__label__\" + labels[num] + \" \" + i.lower() + \"\\n\")\n",
    "            num += 1\n",
    "\n",
    "            if num_sep == num:\n",
    "                break\n",
    "\n",
    "    num = 0\n",
    "    with open(path_to_data + \"texts_updated_test\", \"w\") as f:\n",
    "        for i in texts:\n",
    "            if num > num_sep:\n",
    "                f.write(\"__label__\" + labels[num] + \" \" + i.lower() + \"\\n\")\n",
    "\n",
    "            num += 1\n",
    "\n",
    "update_text_for_fasttext()"
   ]
  },
  {
   "cell_type": "code",
   "execution_count": 13,
   "metadata": {
    "collapsed": false
   },
   "outputs": [
    {
     "ename": "SyntaxError",
     "evalue": "unexpected EOF while parsing (<ipython-input-13-dda5bdb1110f>, line 1)",
     "output_type": "error",
     "traceback": [
      "\u001b[0;36m  File \u001b[0;32m\"<ipython-input-13-dda5bdb1110f>\"\u001b[0;36m, line \u001b[0;32m1\u001b[0m\n\u001b[0;31m    def read_texts_test():\u001b[0m\n\u001b[0m                          ^\u001b[0m\n\u001b[0;31mSyntaxError\u001b[0m\u001b[0;31m:\u001b[0m unexpected EOF while parsing\n"
     ]
    }
   ],
   "source": [
    "def read_texts_test():\n",
    "    labels_test = []\n",
    "    texts_test = []\n",
    "    with open(path_to_data + \"texts_updated_test\", \"w\") as f:\n",
    "        for i in f.readlines():\n",
    "            s = i.replace(\"\\n\", \"\").replace(\"__label__\", \"\")\n",
    "            s_split = s.split(\" \")\n",
    "            labels_test = str(s_split[0])\n",
    "            texts_test"
   ]
  },
  {
   "cell_type": "code",
   "execution_count": 10,
   "metadata": {
    "collapsed": false
   },
   "outputs": [],
   "source": [
    "classifier = fasttext.supervised(path_to_data + \"texts_updated_train\", 'model', label_prefix='__label__',\n",
    "                                 epoch=30)"
   ]
  },
  {
   "cell_type": "code",
   "execution_count": 11,
   "metadata": {
    "collapsed": false
   },
   "outputs": [
    {
     "name": "stdout",
     "output_type": "stream",
     "text": [
      "P@1: 0.5257628814407204\n",
      "R@1: 0.5257628814407204\n",
      "Number of examples: 1999\n"
     ]
    }
   ],
   "source": [
    "result = classifier.test(path_to_data + \"texts_updated_test\")\n",
    "print ('P@1:', result.precision)\n",
    "print ('R@1:', result.recall)\n",
    "print ('Number of examples:', result.nexamples)"
   ]
  },
  {
   "cell_type": "code",
   "execution_count": null,
   "metadata": {
    "collapsed": true
   },
   "outputs": [],
   "source": [
    "labels = classifier.predict(texts)\n",
    "print labels"
   ]
  }
 ],
 "metadata": {
  "kernelspec": {
   "display_name": "Python 3",
   "language": "python",
   "name": "python3"
  },
  "language_info": {
   "codemirror_mode": {
    "name": "ipython",
    "version": 3
   },
   "file_extension": ".py",
   "mimetype": "text/x-python",
   "name": "python",
   "nbconvert_exporter": "python",
   "pygments_lexer": "ipython3",
   "version": "3.5.2"
  }
 },
 "nbformat": 4,
 "nbformat_minor": 0
}
