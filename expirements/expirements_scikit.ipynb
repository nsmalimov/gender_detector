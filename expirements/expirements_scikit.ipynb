{
 "cells": [
  {
   "cell_type": "code",
   "execution_count": 11,
   "metadata": {
    "collapsed": true
   },
   "outputs": [],
   "source": [
    "import numpy as np"
   ]
  },
  {
   "cell_type": "code",
   "execution_count": 46,
   "metadata": {
    "collapsed": false
   },
   "outputs": [
    {
     "name": "stdout",
     "output_type": "stream",
     "text": [
      "(30000, 34011)\n"
     ]
    }
   ],
   "source": [
    "# ограничение в 30000\n",
    "\n",
    "path = \"/Users/Nurislam/Documents/gender_detector_data/\"\n",
    "\n",
    "import pickle\n",
    "\n",
    "data_vectorizer = pickle.load(open(path + \"vec_vectorizer\", \"rb\"))\n",
    "\n",
    "print (data_vectorizer.shape)"
   ]
  },
  {
   "cell_type": "code",
   "execution_count": 13,
   "metadata": {
    "collapsed": false
   },
   "outputs": [
    {
     "name": "stdout",
     "output_type": "stream",
     "text": [
      "(30000, 300)\n"
     ]
    }
   ],
   "source": [
    "data_vec_w2v_1 = np.loadtxt(path + \"vec_w2v_1\", delimiter=',')\n",
    "print (data_vec_w2v_1.shape)"
   ]
  },
  {
   "cell_type": "code",
   "execution_count": 33,
   "metadata": {
    "collapsed": false
   },
   "outputs": [
    {
     "name": "stdout",
     "output_type": "stream",
     "text": [
      "(30000, 400)\n"
     ]
    }
   ],
   "source": [
    "data_w2v_full = np.loadtxt(path + \"features_w2v_full\", delimiter=',')\n",
    "print (data_w2v_full.shape)"
   ]
  },
  {
   "cell_type": "code",
   "execution_count": null,
   "metadata": {
    "collapsed": true
   },
   "outputs": [],
   "source": [
    "data_vec_w2v_2 = np.loadtxt(path + \"vec_w2v_2\", delimiter=',')\n",
    "print (data_vec_w2v_2.shape)"
   ]
  },
  {
   "cell_type": "code",
   "execution_count": 45,
   "metadata": {
    "collapsed": false
   },
   "outputs": [],
   "source": [
    "def read_labels():\n",
    "    labels = []\n",
    "    with open(path + \"labels\") as f:\n",
    "        for i in f.readlines():\n",
    "            s = i.replace(\"\\n\", \"\")\n",
    "            labels.append(s)\n",
    "\n",
    "    return labels\n",
    "\n",
    "labels = [int(i) for i in read_labels()]"
   ]
  },
  {
   "cell_type": "code",
   "execution_count": 40,
   "metadata": {
    "collapsed": false
   },
   "outputs": [],
   "source": [
    "from sklearn.model_selection import train_test_split\n",
    "X = data_vectorizer\n",
    "y = labels\n",
    "X_train, X_test, y_train, y_test = train_test_split(X, y, test_size=0.33, random_state=42)"
   ]
  },
  {
   "cell_type": "code",
   "execution_count": 35,
   "metadata": {
    "collapsed": false
   },
   "outputs": [
    {
     "name": "stdout",
     "output_type": "stream",
     "text": [
      "(20100, 400)\n"
     ]
    }
   ],
   "source": [
    "print (X_train.shape)"
   ]
  },
  {
   "cell_type": "code",
   "execution_count": 29,
   "metadata": {
    "collapsed": true
   },
   "outputs": [],
   "source": [
    "from sklearn.metrics import f1_score\n",
    "from sklearn.metrics import precision_score\n",
    "from sklearn.metrics import recall_score\n",
    "\n",
    "def get_accuracy(pred, y_test):\n",
    "    count_corr = 0\n",
    "    for i in zip(y_test, pred):\n",
    "        if i[0] == i[1]:\n",
    "            count_corr += 1\n",
    "        \n",
    "    return count_corr, (count_corr/len(y_test))\n",
    "\n",
    "def get_metrics(predicted, correct):\n",
    "    count_corr, accuracy = get_accuracy(predicted, y_test)\n",
    "    print (\"all: \" + str(len(predicted)) + \" \" + \"correct: \" + str(count_corr))\n",
    "    print (\"accuracy\" + str(accuracy))\n",
    "    print (\"precision \" + str(precision_score(correct, predicted)))\n",
    "    print (\"recall \" + str(recall_score(correct, predicted)))\n",
    "    print (\"f1 \" + str(f1_score(correct, predicted)))"
   ]
  },
  {
   "cell_type": "code",
   "execution_count": 41,
   "metadata": {
    "collapsed": false
   },
   "outputs": [
    {
     "name": "stdout",
     "output_type": "stream",
     "text": [
      "all: 9900 correct: 5168\n",
      "accuracy0.522020202020202\n",
      "precision 0.501533154465\n",
      "recall 0.551179443976\n",
      "f1 0.525185631146\n"
     ]
    }
   ],
   "source": [
    "from sklearn.ensemble import RandomForestClassifier\n",
    "\n",
    "clf = RandomForestClassifier(n_jobs=4)\n",
    "clf.fit(X_train, y_train)\n",
    "get_metrics(clf.predict(X_test), y_test)"
   ]
  },
  {
   "cell_type": "code",
   "execution_count": 42,
   "metadata": {
    "collapsed": false
   },
   "outputs": [
    {
     "name": "stdout",
     "output_type": "stream",
     "text": [
      "all: 9900 correct: 5535\n",
      "accuracy0.5590909090909091\n",
      "precision 0.557215416791\n",
      "recall 0.392796967144\n",
      "f1 0.460778258184\n"
     ]
    }
   ],
   "source": [
    "from sklearn.linear_model import LogisticRegression\n",
    "\n",
    "lg = LogisticRegression()\n",
    "lg.fit(X_train, y_train)\n",
    "get_metrics(lg.predict(X_test), y_test)"
   ]
  },
  {
   "cell_type": "code",
   "execution_count": 44,
   "metadata": {
    "collapsed": false
   },
   "outputs": [
    {
     "name": "stdout",
     "output_type": "stream",
     "text": [
      "all: 9900 correct: 5082\n",
      "accuracy0.5133333333333333\n",
      "precision 0.495591939547\n",
      "recall 0.828770008425\n",
      "f1 0.62027112232\n"
     ]
    }
   ],
   "source": [
    "from sklearn.naive_bayes import GaussianNB\n",
    "nb = GaussianNB()\n",
    "nb.fit(X_train.todense(), y_train)\n",
    "get_metrics(nb.predict(X_test.todense()), y_test)"
   ]
  },
  {
   "cell_type": "code",
   "execution_count": null,
   "metadata": {
    "collapsed": true
   },
   "outputs": [],
   "source": []
  }
 ],
 "metadata": {
  "kernelspec": {
   "display_name": "Python 3",
   "language": "python",
   "name": "python3"
  },
  "language_info": {
   "codemirror_mode": {
    "name": "ipython",
    "version": 3
   },
   "file_extension": ".py",
   "mimetype": "text/x-python",
   "name": "python",
   "nbconvert_exporter": "python",
   "pygments_lexer": "ipython3",
   "version": "3.5.2"
  }
 },
 "nbformat": 4,
 "nbformat_minor": 0
}
