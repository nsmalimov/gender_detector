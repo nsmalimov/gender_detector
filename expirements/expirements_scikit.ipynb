{
 "cells": [
  {
   "cell_type": "code",
   "execution_count": 23,
   "metadata": {
    "collapsed": false
   },
   "outputs": [
    {
     "name": "stdout",
     "output_type": "stream",
     "text": [
      "(10000, 14989)\n"
     ]
    }
   ],
   "source": [
    "path = \"/Users/Nurislam/Documents/gender_detector_data/\"\n",
    "\n",
    "import pickle\n",
    "\n",
    "data = pickle.load(open(path + \"vec_vectorizer\", \"rb\"))\n",
    "\n",
    "print (data.shape)"
   ]
  },
  {
   "cell_type": "code",
   "execution_count": 17,
   "metadata": {
    "collapsed": false
   },
   "outputs": [],
   "source": [
    "def read_labels():\n",
    "    labels = []\n",
    "    with open(path + \"labels\") as f:\n",
    "        for i in f.readlines():\n",
    "            s = i.replace(\"\\n\", \"\")\n",
    "            labels.append(s)\n",
    "\n",
    "    return labels"
   ]
  },
  {
   "cell_type": "code",
   "execution_count": 20,
   "metadata": {
    "collapsed": false
   },
   "outputs": [],
   "source": [
    "labels = [int(i) for i in read_labels()]"
   ]
  },
  {
   "cell_type": "code",
   "execution_count": 5,
   "metadata": {
    "collapsed": false
   },
   "outputs": [],
   "source": [
    "from sklearn.model_selection import train_test_split\n",
    "X = data\n",
    "y = labels\n",
    "X_train, X_test, y_train, y_test = train_test_split(X, y, test_size=0.33, random_state=42)"
   ]
  },
  {
   "cell_type": "code",
   "execution_count": 6,
   "metadata": {
    "collapsed": false
   },
   "outputs": [
    {
     "name": "stdout",
     "output_type": "stream",
     "text": [
      "(10000, 14989)\n"
     ]
    }
   ],
   "source": [
    "print (data.shape)"
   ]
  },
  {
   "cell_type": "code",
   "execution_count": 40,
   "metadata": {
    "collapsed": true
   },
   "outputs": [],
   "source": [
    "from sklearn.metrics import f1_score\n",
    "from sklearn.metrics import precision_score\n",
    "from sklearn.metrics import recall_score\n",
    "\n",
    "def get_accuracy(pred, y_test):\n",
    "    count_corr = 0\n",
    "    for i in zip(y_test, pred):\n",
    "        if i[0] == i[1]:\n",
    "            count_corr += 1\n",
    "        \n",
    "    return count_corr, (count_corr/len(y_test))\n",
    "\n",
    "def get_metrics(predicted, correct):\n",
    "    count_corr, accuracy = get_accuracy(predicted, y_test)\n",
    "    print (\"all: \" + str(len(predicted)) + \" \" + \"correct: \" + str(count_corr))\n",
    "    print (\"accuracy\" + str(accuracy))\n",
    "    print (\"precision \" + str(precision_score(correct, predicted)))\n",
    "    print (\"recall \" + str(recall_score(correct, predicted)))\n",
    "    print (\"f1 \" + str(f1_score(correct, predicted)))"
   ]
  },
  {
   "cell_type": "code",
   "execution_count": 41,
   "metadata": {
    "collapsed": false
   },
   "outputs": [
    {
     "name": "stdout",
     "output_type": "stream",
     "text": [
      "all: 3300 correct: 1672\n",
      "accuracy0.5066666666666667\n",
      "precision 0.480829015544\n",
      "recall 0.597168597169\n",
      "f1 0.532721010333\n"
     ]
    }
   ],
   "source": [
    "from sklearn.ensemble import RandomForestClassifier\n",
    "\n",
    "clf = RandomForestClassifier(n_jobs=4)\n",
    "clf.fit(X_train, y_train)\n",
    "get_metrics(clf.predict(X_test), y_test)"
   ]
  },
  {
   "cell_type": "code",
   "execution_count": 42,
   "metadata": {
    "collapsed": false
   },
   "outputs": [
    {
     "name": "stdout",
     "output_type": "stream",
     "text": [
      "all: 3300 correct: 1796\n",
      "accuracy0.5442424242424242\n",
      "precision 0.52147766323\n",
      "recall 0.390604890605\n",
      "f1 0.446651949963\n"
     ]
    }
   ],
   "source": [
    "from sklearn.linear_model import LogisticRegression\n",
    "\n",
    "lg = LogisticRegression()\n",
    "lg.fit(X_train, y_train)\n",
    "get_metrics(lg.predict(X_test), y_test)"
   ]
  },
  {
   "cell_type": "code",
   "execution_count": 43,
   "metadata": {
    "collapsed": false
   },
   "outputs": [
    {
     "name": "stdout",
     "output_type": "stream",
     "text": [
      "all: 3300 correct: 1652\n",
      "accuracy0.5006060606060606\n",
      "precision 0.481640625\n",
      "recall 0.793436293436\n",
      "f1 0.599416626155\n"
     ]
    }
   ],
   "source": [
    "from sklearn.naive_bayes import GaussianNB\n",
    "nb = GaussianNB()\n",
    "nb.fit(X_train.todense(), y_train)\n",
    "get_metrics(nb.predict(X_test.todense()), y_test)"
   ]
  },
  {
   "cell_type": "code",
   "execution_count": null,
   "metadata": {
    "collapsed": true
   },
   "outputs": [],
   "source": []
  }
 ],
 "metadata": {
  "kernelspec": {
   "display_name": "Python 3",
   "language": "python",
   "name": "python3"
  },
  "language_info": {
   "codemirror_mode": {
    "name": "ipython",
    "version": 3
   },
   "file_extension": ".py",
   "mimetype": "text/x-python",
   "name": "python",
   "nbconvert_exporter": "python",
   "pygments_lexer": "ipython3",
   "version": "3.5.2"
  }
 },
 "nbformat": 4,
 "nbformat_minor": 0
}
